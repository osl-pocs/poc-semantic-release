{
 "cells": [
  {
   "cell_type": "markdown",
   "id": "65462dbb",
   "metadata": {},
   "source": [
    "# Intro to Semantic Release\n",
    "\n",
    "![semantic-release](https://avatars.githubusercontent.com/u/12867925?s=200&v=4)"
   ]
  },
  {
   "cell_type": "markdown",
   "id": "04a5c515",
   "metadata": {},
   "source": [
    "semantic-release automatiza todo el flujo de trabajo de lanzamiento del paquete, lo que incluye:\n",
    "- determinar el próximo número de versión\n",
    "- generar las notas de lanzamiento y\n",
    "- publicar el paquete.\n",
    "\n",
    "Esto elimina la conexión inmediata entre las emociones humanas y los números de versión,\n",
    "siguiendo estrictamente la especificación de [Semantic Versioning](https://semver.org/) y\n",
    "comunicando el impacto de los cambios a los consumidores.\n",
    "\n",
    "ref: https://github.com/semantic-release/semantic-release"
   ]
  },
  {
   "cell_type": "markdown",
   "id": "78ac44af",
   "metadata": {},
   "source": [
    "Exemplo de versión: **v22.07.29**\n",
    "\n",
    "|v22|07 |29 |\n",
    "|:--|:--|:--|\n",
    "|MAJOR|MINOR|PATCH|\n",
    "\n",
    "Dado un número de versión MAYOR.MENOR.PARCHE, se incrementa:\n",
    "\n",
    "* Versión MAJOR, cuando se quebra la compatibilidad\n",
    "* Versión MINOR cuando agrega funcionalidad de manera compatible con versiones anteriores\n",
    "* Versión PATCH cuando realiza correcciones de errores compatibles con versiones anteriores\n",
    "\n",
    "ref: https://semver.org/#summary"
   ]
  },
  {
   "cell_type": "markdown",
   "id": "d7618431",
   "metadata": {},
   "source": [
    "## Formato de mensaje de commit\n",
    "\n",
    "El semantic-release, por defecto, utiliza los mensajes de los `commits` para preparar \n",
    "el nuevo release y, para ello, se base en sus prefijos. El formato está \n",
    "definido por [Angular Commit Message Conventions](https://github.com/angular/angular/blob/master/CONTRIBUTING.md#-commit-message-format).\n",
    "\n",
    "La estructura del mensaje es:\n",
    "\n",
    "`<type>(<scope>): <short summary>`\n",
    "\n",
    "`scope` es opcional, pero puede ser usado para dar más contexto al cambio propuesto por el commit.\n",
    "\n",
    "Ejemplo: \n",
    "\n",
    "* `ci(semantic-release): Add semantic-release to the CI workflow`.\n",
    "\n",
    "o solamente:\n",
    "\n",
    "* `ci: Add semantic-release to the CI workflow`.\n",
    "\n",
    "Adicionalmente, também se utiliza `chore` para cualquier cambio que no necesita un incremento de \n",
    "versión, por ejemplo: documentation, ci, tests, performance.\n",
    "\n",
    "ref: https://github.com/semantic-release/semantic-release/blob/master/README.md#commit-message-format"
   ]
  },
  {
   "cell_type": "markdown",
   "id": "7b28b861",
   "metadata": {},
   "source": [
    "### Tipo\n",
    "\n",
    "* build: cambios que afectan el sistema de compilación o las dependencias externas (ámbitos de ejemplo: trago, brócoli, npm)\n",
    "* ci: Cambios en nuestros archivos y scripts de configuración de CI (ejemplos: CircleCi, SauceLabs)\n",
    "* docs: Documentación solo cambios\n",
    "* feat: una nueva característica\n",
    "* fix: una corrección de errores\n",
    "* perf: un cambio de código que mejora el rendimiento\n",
    "* refactor: un cambio de código que no corrige un error ni agrega una característica\n",
    "* test: Adición de pruebas faltantes o corrección de pruebas existentes\n",
    "\n",
    "ref: https://github.com/angular/angular/blob/main/CONTRIBUTING.md#type"
   ]
  },
  {
   "cell_type": "markdown",
   "id": "78fa43f0",
   "metadata": {},
   "source": [
    "## Use case\n",
    "\n",
    "En Open Science Labs (OSL), solemos desarrollar pruebas de conceptos (proof of concepts, PoCs)\n",
    "para probar nuevas tecnologías. Y tenemos un PoC para semantic-release disponible en:\n",
    "\n",
    "https://github.com/osl-incubator/poc-semantic-release/\n",
    "\n",
    "Ha sido implementado el flujo básico para la utilización de semantic-release y el proyecto está abierto\n",
    "a todos que quieran implementar un flujo más sofisticado para semantic-release.\n",
    "\n",
    "### ¿Cómo contribuir al PoC?\n",
    "\n",
    "El primer paso es crear una issue en github con tu propuesta de cambio. Si es aprobada, \n",
    "te invitaremos a abrir un Pull Request con los cambios propuestos.\n",
    "\n",
    "Pueden verificar la guía para contribuir en el \n",
    "[contributing guide](https://github.com/osl-incubator/poc-semantic-release/blob/main/CONTRIBUTING.rst)."
   ]
  },
  {
   "cell_type": "markdown",
   "id": "dc69523d",
   "metadata": {},
   "source": [
    "## Canales de Comunicación\n",
    "\n",
    "http://discord.opensciencelabs.org"
   ]
  }
 ],
 "metadata": {
  "kernelspec": {
   "display_name": "Python 3 (ipykernel)",
   "language": "python",
   "name": "python3"
  },
  "language_info": {
   "codemirror_mode": {
    "name": "ipython",
    "version": 3
   },
   "file_extension": ".py",
   "mimetype": "text/x-python",
   "name": "python",
   "nbconvert_exporter": "python",
   "pygments_lexer": "ipython3",
   "version": "3.10.5"
  }
 },
 "nbformat": 4,
 "nbformat_minor": 5
}
